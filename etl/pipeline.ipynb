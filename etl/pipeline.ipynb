{
 "cells": [
  {
   "cell_type": "code",
   "execution_count": 2,
   "metadata": {},
   "outputs": [],
   "source": [
    "##Create a spark session\n",
    "from pyspark.sql import SparkSession\n",
    "# Create a SparkSession\n",
    "spark = SparkSession.builder.appName(\"Read CSV\").getOrCreate()\n"
   ]
  },
  {
   "cell_type": "code",
   "execution_count": 13,
   "metadata": {},
   "outputs": [
    {
     "name": "stdout",
     "output_type": "stream",
     "text": [
      "[('User-ID', 'string'), ('Location', 'string'), ('Age', 'string')]\n"
     ]
    }
   ],
   "source": [
    "users = spark.read.csv(\"raw/books_data/users.csv\",sep=\";\",header=True)"
   ]
  },
  {
   "cell_type": "code",
   "execution_count": 21,
   "metadata": {},
   "outputs": [
    {
     "data": {
      "text/plain": [
       "[('User-ID', 'int'), ('Location', 'string'), ('Age', 'int')]"
      ]
     },
     "execution_count": 21,
     "metadata": {},
     "output_type": "execute_result"
    }
   ],
   "source": [
    "from pyspark.sql.types import IntegerType\n",
    "import pyspark.sql.functions as F\n",
    "from pyspark.sql.functions import mean\n",
    "users = users.withColumn(\"Age\", users[\"Age\"].cast(IntegerType()))\n",
    "users = users.withColumn(\"User-ID\", users[\"User-ID\"].cast(IntegerType()))"
   ]
  },
  {
   "cell_type": "code",
   "execution_count": 38,
   "metadata": {},
   "outputs": [
    {
     "name": "stdout",
     "output_type": "stream",
     "text": [
      "+-------+---+--------------+----------------+---------------+\n",
      "|User-ID|Age|          city|           state|        country|\n",
      "+-------+---+--------------+----------------+---------------+\n",
      "|      1| 34|           nyc|        new york|            usa|\n",
      "|      2| 18|      stockton|      california|            usa|\n",
      "|      3| 34|        moscow| yukon territory|         russia|\n",
      "|      4| 17|         porto|        v.n.gaia|       portugal|\n",
      "|      5| 34|   farnborough|           hants| united kingdom|\n",
      "|      6| 61|  santa monica|      california|            usa|\n",
      "|      7| 34|    washington|              dc|            usa|\n",
      "|      8| 34|       timmins|         ontario|         canada|\n",
      "|      9| 34|    germantown|       tennessee|            usa|\n",
      "|     10| 26|      albacete|       wisconsin|          spain|\n",
      "|     11| 14|     melbourne|        victoria|      australia|\n",
      "|     12| 34|    fort bragg|      california|            usa|\n",
      "|     13| 26|     barcelona|       barcelona|          spain|\n",
      "|     14| 34|    mediapolis|            iowa|            usa|\n",
      "|     15| 34|       calgary|         alberta|         canada|\n",
      "|     16| 34|   albuquerque|      new mexico|            usa|\n",
      "|     17| 34|    chesapeake|        virginia|            usa|\n",
      "|     18| 25|rio de janeiro|  rio de janeiro|         brazil|\n",
      "|     19| 14|        weston|                |               |\n",
      "|     20| 19|     langhorne|    pennsylvania|            usa|\n",
      "+-------+---+--------------+----------------+---------------+\n",
      "only showing top 20 rows\n",
      "\n"
     ]
    }
   ],
   "source": [
    "\n",
    "# Split the column into a list of strings\n",
    "df = users.withColumn(\"Location\", F.split(users.Location, \",\"))\n",
    "# Filter the rows that do not have the correct format\n",
    "df = df.filter(F.size(df.Location) == 3)\n",
    "df = df.withColumn(\"city\", F.col(\"Location\").getItem(0))\n",
    "df = df.withColumn(\"state\", F.col(\"Location\").getItem(1))\n",
    "df = df.withColumn(\"country\", F.col(\"Location\").getItem(2))\n",
    "df = df.drop(\"Location\")\n",
    "# Calculate the mean of the column\n",
    "mean_value = df.agg(mean(df.Age)).collect()[0][0]\n",
    "\n",
    "# Fill the NA values in the column with the mean\n",
    "df = df.fillna(mean_value, subset=[\"Age\"])\n",
    "# Print the DataFrame\n",
    "df.show()"
   ]
  }
 ],
 "metadata": {
  "kernelspec": {
   "display_name": "Python 3",
   "language": "python",
   "name": "python3"
  },
  "language_info": {
   "codemirror_mode": {
    "name": "ipython",
    "version": 3
   },
   "file_extension": ".py",
   "mimetype": "text/x-python",
   "name": "python",
   "nbconvert_exporter": "python",
   "pygments_lexer": "ipython3",
   "version": "3.11.5"
  },
  "orig_nbformat": 4,
  "vscode": {
   "interpreter": {
    "hash": "ead1b95f633dc9c51826328e1846203f51a198c6fb5f2884a80417ba131d4e82"
   }
  }
 },
 "nbformat": 4,
 "nbformat_minor": 2
}
